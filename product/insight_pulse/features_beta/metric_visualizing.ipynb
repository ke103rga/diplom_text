{
 "cells": [
  {
   "cell_type": "code",
   "execution_count": 1,
   "metadata": {},
   "outputs": [],
   "source": [
    "import pandas as pd\n",
    "# from retentioneering import datasets\n",
    "from typing import Literal, Union, List, Optional, Iterable, get_args, Dict, Tuple, Callable\n",
    "import numpy as np \n",
    "from sklearn.preprocessing import StandardScaler, OneHotEncoder\n",
    "from sklearn.compose import ColumnTransformer\n",
    "from sklearn.pipeline import Pipeline\n",
    "from sklearn.metrics import silhouette_score\n",
    "from sklearn.cluster import KMeans\n",
    "from sklearn.tree import DecisionTreeClassifier\n",
    "from sklearn import tree\n",
    "\n",
    "import matplotlib.pyplot as plt\n",
    "import seaborn as sns\n",
    "import datetime\n",
    "\n",
    "from itertools import product\n",
    "from abc import ABC, abstractmethod"
   ]
  },
  {
   "cell_type": "code",
   "execution_count": 2,
   "metadata": {},
   "outputs": [],
   "source": [
    "def generate_user_events_data(num_users=1000, num_events=10, num_cities=10, num_os=2, num_rows=5000, seed=42):\n",
    "    \"\"\"\n",
    "    Функция для генерации данных о событиях пользователей.\n",
    "    \"\"\"\n",
    "    # Устанавливаем seed для генератора случайных чисел\n",
    "    np.random.seed(seed)\n",
    "\n",
    "    # Создаем список пользователей\n",
    "    users = ['user' + str(i) for i in range(1, num_users+1)]\n",
    "\n",
    "    # Создаем список событий\n",
    "    events = ['event' + str(i) for i in range(1, num_events+1)]\n",
    "\n",
    "    # Создаем список дат\n",
    "    dates = [datetime.datetime.now() - datetime.timedelta(days=x) for x in range(180)]\n",
    "\n",
    "    # Создаем список городов\n",
    "    cities = ['city' + str(i) for i in range(1, num_cities+1)]\n",
    "\n",
    "    # Создаем список операционных систем\n",
    "    os = ['iOS', 'Android']\n",
    "\n",
    "    statuses = ['status' + str(i) for i in range(1, num_os+1)]\n",
    "\n",
    "    # Создаем DataFrame\n",
    "    df = pd.DataFrame({\n",
    "        'user_id': np.random.choice(users, num_rows),\n",
    "        'event': np.random.choice(events, num_rows),\n",
    "        'event_datetime': np.random.choice(dates, num_rows),\n",
    "        'city': np.random.choice(cities, num_rows),\n",
    "        'operation_system': np.random.choice(os, num_rows),\n",
    "        'status': np.random.choice(statuses, num_rows)\n",
    "    })\n",
    "\n",
    "    return df"
   ]
  },
  {
   "cell_type": "code",
   "execution_count": 3,
   "metadata": {},
   "outputs": [
    {
     "name": "stdout",
     "output_type": "stream",
     "text": [
      "D:\\pythonProg\\Python\\Python312\\python312.zip\n",
      "D:\\pythonProg\\Python\\Python312\\DLLs\n",
      "D:\\pythonProg\\Python\\Python312\\Lib\n",
      "D:\\pythonProg\\Python\\Python312\n",
      "d:\\diplom\\.venv\n",
      "\n",
      "d:\\diplom\\.venv\\Lib\\site-packages\n",
      "d:\\diplom\\.venv\\Lib\\site-packages\\win32\n",
      "d:\\diplom\\.venv\\Lib\\site-packages\\win32\\lib\n",
      "d:\\diplom\\.venv\\Lib\\site-packages\\Pythonwin\n",
      "d:\\diplom\\product\\insight_pulse\n"
     ]
    }
   ],
   "source": [
    "import sys\n",
    "\n",
    "sys.path.append('d:\\\\diplom\\\\product\\\\insight_pulse')\n",
    "\n",
    "for path in sys.path:\n",
    "    print(path)"
   ]
  },
  {
   "cell_type": "code",
   "execution_count": 4,
   "metadata": {},
   "outputs": [],
   "source": [
    "from eventframing.eventframe import EventFrame\n",
    "from eventframing.cols_schema import EventFrameColsSchema\n",
    "from eventframing.event_type import EventType\n",
    "\n",
    "from data_preprocessing.data_preprocessor import DataPreprocessor\n",
    "from data_preprocessing.preprocessors_lib.add_start_end_events import AddStartEndEventsPreprocessor\n",
    "from data_preprocessing.preprocessors_lib.split_sessions import SplitSessionsPreprocessor\n",
    "\n",
    "from metrics.metric import MetricKPI, MetricDinamic\n",
    "\n",
    "from utils.time_units import TimeUnits"
   ]
  },
  {
   "cell_type": "markdown",
   "metadata": {},
   "source": [
    "## ТЕстирование метрики KPI"
   ]
  },
  {
   "cell_type": "code",
   "execution_count": 5,
   "metadata": {},
   "outputs": [
    {
     "name": "stdout",
     "output_type": "stream",
     "text": [
      "EventFrameColsSchema(event_id=None, event_type=None, event_index=None, event_name=event, event_timestamp=event_datetime, user_id=user_id, session_id=None, cohort_group=None, custom_cols=[])\n"
     ]
    },
    {
     "data": {
      "text/html": [
       "<div>\n",
       "<style scoped>\n",
       "    .dataframe tbody tr th:only-of-type {\n",
       "        vertical-align: middle;\n",
       "    }\n",
       "\n",
       "    .dataframe tbody tr th {\n",
       "        vertical-align: top;\n",
       "    }\n",
       "\n",
       "    .dataframe thead th {\n",
       "        text-align: right;\n",
       "    }\n",
       "</style>\n",
       "<table border=\"1\" class=\"dataframe\">\n",
       "  <thead>\n",
       "    <tr style=\"text-align: right;\">\n",
       "      <th></th>\n",
       "      <th>user_id</th>\n",
       "      <th>event</th>\n",
       "      <th>event_datetime</th>\n",
       "      <th>city</th>\n",
       "      <th>operation_system</th>\n",
       "      <th>status</th>\n",
       "      <th>event_id</th>\n",
       "      <th>event_type</th>\n",
       "      <th>event_type_index</th>\n",
       "    </tr>\n",
       "  </thead>\n",
       "  <tbody>\n",
       "    <tr>\n",
       "      <th>1357</th>\n",
       "      <td>user1</td>\n",
       "      <td>event2</td>\n",
       "      <td>2024-11-29 12:55:16.070160</td>\n",
       "      <td>city5</td>\n",
       "      <td>Android</td>\n",
       "      <td>status2</td>\n",
       "      <td>1357</td>\n",
       "      <td>raw</td>\n",
       "      <td>2</td>\n",
       "    </tr>\n",
       "    <tr>\n",
       "      <th>4234</th>\n",
       "      <td>user1</td>\n",
       "      <td>event6</td>\n",
       "      <td>2024-12-01 12:55:16.070160</td>\n",
       "      <td>city5</td>\n",
       "      <td>Android</td>\n",
       "      <td>status2</td>\n",
       "      <td>4234</td>\n",
       "      <td>raw</td>\n",
       "      <td>2</td>\n",
       "    </tr>\n",
       "    <tr>\n",
       "      <th>2760</th>\n",
       "      <td>user1</td>\n",
       "      <td>event2</td>\n",
       "      <td>2024-12-21 12:55:16.070160</td>\n",
       "      <td>city6</td>\n",
       "      <td>iOS</td>\n",
       "      <td>status1</td>\n",
       "      <td>2760</td>\n",
       "      <td>raw</td>\n",
       "      <td>2</td>\n",
       "    </tr>\n",
       "    <tr>\n",
       "      <th>4934</th>\n",
       "      <td>user1</td>\n",
       "      <td>event9</td>\n",
       "      <td>2025-01-02 12:55:16.070160</td>\n",
       "      <td>city3</td>\n",
       "      <td>iOS</td>\n",
       "      <td>status1</td>\n",
       "      <td>4934</td>\n",
       "      <td>raw</td>\n",
       "      <td>2</td>\n",
       "    </tr>\n",
       "    <tr>\n",
       "      <th>1049</th>\n",
       "      <td>user1</td>\n",
       "      <td>event10</td>\n",
       "      <td>2025-01-30 12:55:16.070160</td>\n",
       "      <td>city1</td>\n",
       "      <td>iOS</td>\n",
       "      <td>status2</td>\n",
       "      <td>1049</td>\n",
       "      <td>raw</td>\n",
       "      <td>2</td>\n",
       "    </tr>\n",
       "  </tbody>\n",
       "</table>\n",
       "</div>"
      ],
      "text/plain": [
       "     user_id    event             event_datetime   city operation_system  \\\n",
       "1357   user1   event2 2024-11-29 12:55:16.070160  city5          Android   \n",
       "4234   user1   event6 2024-12-01 12:55:16.070160  city5          Android   \n",
       "2760   user1   event2 2024-12-21 12:55:16.070160  city6              iOS   \n",
       "4934   user1   event9 2025-01-02 12:55:16.070160  city3              iOS   \n",
       "1049   user1  event10 2025-01-30 12:55:16.070160  city1              iOS   \n",
       "\n",
       "       status  event_id event_type  event_type_index  \n",
       "1357  status2      1357        raw                 2  \n",
       "4234  status2      4234        raw                 2  \n",
       "2760  status1      2760        raw                 2  \n",
       "4934  status1      4934        raw                 2  \n",
       "1049  status2      1049        raw                 2  "
      ]
     },
     "execution_count": 5,
     "metadata": {},
     "output_type": "execute_result"
    }
   ],
   "source": [
    "data = generate_user_events_data(num_rows=5000)\n",
    "cols_schema = {'user_id': 'user_id', 'event_timestamp': 'event_datetime', 'event_name': 'event'}\n",
    "ef = EventFrame(data, cols_schema)\n",
    "ef.to_dataframe().head()"
   ]
  },
  {
   "cell_type": "code",
   "execution_count": 6,
   "metadata": {},
   "outputs": [],
   "source": [
    "data = ef.to_dataframe()\n",
    "data['date'] = data['event_datetime'].dt.date"
   ]
  },
  {
   "cell_type": "code",
   "execution_count": 7,
   "metadata": {},
   "outputs": [
    {
     "data": {
      "text/html": [
       "<div>\n",
       "<style scoped>\n",
       "    .dataframe tbody tr th:only-of-type {\n",
       "        vertical-align: middle;\n",
       "    }\n",
       "\n",
       "    .dataframe tbody tr th {\n",
       "        vertical-align: top;\n",
       "    }\n",
       "\n",
       "    .dataframe thead th {\n",
       "        text-align: right;\n",
       "    }\n",
       "</style>\n",
       "<table border=\"1\" class=\"dataframe\">\n",
       "  <thead>\n",
       "    <tr style=\"text-align: right;\">\n",
       "      <th></th>\n",
       "      <th>user_id</th>\n",
       "      <th>event</th>\n",
       "      <th>event_datetime</th>\n",
       "      <th>city</th>\n",
       "      <th>operation_system</th>\n",
       "      <th>status</th>\n",
       "      <th>event_id</th>\n",
       "      <th>event_type</th>\n",
       "      <th>event_type_index</th>\n",
       "      <th>date</th>\n",
       "    </tr>\n",
       "  </thead>\n",
       "  <tbody>\n",
       "    <tr>\n",
       "      <th>1357</th>\n",
       "      <td>user1</td>\n",
       "      <td>event2</td>\n",
       "      <td>2024-11-29 12:55:16.070160</td>\n",
       "      <td>city5</td>\n",
       "      <td>Android</td>\n",
       "      <td>status2</td>\n",
       "      <td>1357</td>\n",
       "      <td>raw</td>\n",
       "      <td>2</td>\n",
       "      <td>2024-11-29</td>\n",
       "    </tr>\n",
       "    <tr>\n",
       "      <th>4234</th>\n",
       "      <td>user1</td>\n",
       "      <td>event6</td>\n",
       "      <td>2024-12-01 12:55:16.070160</td>\n",
       "      <td>city5</td>\n",
       "      <td>Android</td>\n",
       "      <td>status2</td>\n",
       "      <td>4234</td>\n",
       "      <td>raw</td>\n",
       "      <td>2</td>\n",
       "      <td>2024-12-01</td>\n",
       "    </tr>\n",
       "    <tr>\n",
       "      <th>2760</th>\n",
       "      <td>user1</td>\n",
       "      <td>event2</td>\n",
       "      <td>2024-12-21 12:55:16.070160</td>\n",
       "      <td>city6</td>\n",
       "      <td>iOS</td>\n",
       "      <td>status1</td>\n",
       "      <td>2760</td>\n",
       "      <td>raw</td>\n",
       "      <td>2</td>\n",
       "      <td>2024-12-21</td>\n",
       "    </tr>\n",
       "    <tr>\n",
       "      <th>4934</th>\n",
       "      <td>user1</td>\n",
       "      <td>event9</td>\n",
       "      <td>2025-01-02 12:55:16.070160</td>\n",
       "      <td>city3</td>\n",
       "      <td>iOS</td>\n",
       "      <td>status1</td>\n",
       "      <td>4934</td>\n",
       "      <td>raw</td>\n",
       "      <td>2</td>\n",
       "      <td>2025-01-02</td>\n",
       "    </tr>\n",
       "    <tr>\n",
       "      <th>1049</th>\n",
       "      <td>user1</td>\n",
       "      <td>event10</td>\n",
       "      <td>2025-01-30 12:55:16.070160</td>\n",
       "      <td>city1</td>\n",
       "      <td>iOS</td>\n",
       "      <td>status2</td>\n",
       "      <td>1049</td>\n",
       "      <td>raw</td>\n",
       "      <td>2</td>\n",
       "      <td>2025-01-30</td>\n",
       "    </tr>\n",
       "  </tbody>\n",
       "</table>\n",
       "</div>"
      ],
      "text/plain": [
       "     user_id    event             event_datetime   city operation_system  \\\n",
       "1357   user1   event2 2024-11-29 12:55:16.070160  city5          Android   \n",
       "4234   user1   event6 2024-12-01 12:55:16.070160  city5          Android   \n",
       "2760   user1   event2 2024-12-21 12:55:16.070160  city6              iOS   \n",
       "4934   user1   event9 2025-01-02 12:55:16.070160  city3              iOS   \n",
       "1049   user1  event10 2025-01-30 12:55:16.070160  city1              iOS   \n",
       "\n",
       "       status  event_id event_type  event_type_index        date  \n",
       "1357  status2      1357        raw                 2  2024-11-29  \n",
       "4234  status2      4234        raw                 2  2024-12-01  \n",
       "2760  status1      2760        raw                 2  2024-12-21  \n",
       "4934  status1      4934        raw                 2  2025-01-02  \n",
       "1049  status2      1049        raw                 2  2025-01-30  "
      ]
     },
     "execution_count": 7,
     "metadata": {},
     "output_type": "execute_result"
    }
   ],
   "source": [
    "data.head()"
   ]
  },
  {
   "cell_type": "code",
   "execution_count": 8,
   "metadata": {},
   "outputs": [
    {
     "data": {
      "text/plain": [
       "(40, 3)"
      ]
     },
     "execution_count": 8,
     "metadata": {},
     "output_type": "execute_result"
    }
   ],
   "source": [
    "\n",
    "# period_name = 'date'\n",
    "hue_cols = ['operation_system', 'status', 'city']\n",
    "# name = 'city1_users_count'\n",
    "# formula = lambda x: x[x['city'] == 'city1']['user_id'].nunique()\n",
    "# formula_kwargs = dict()\n",
    "\n",
    "\n",
    "# data.groupby([period_name] + hue_cols).apply(lambda data: formula(data, **formula_kwargs), include_groups=False)\\\n",
    "#                 .reset_index().rename(columns={0: name})\n",
    "\n",
    "def _get_data_pivot_template(self, data: pd.DataFrame, hue_cols: List[str]) -> pd.DataFrame:\n",
    "    data = data.copy()\n",
    "    unique_values = [data[col].unique() for col in hue_cols]\n",
    "        \n",
    "    # Создаем мультииндекс, представляющий все комбинации\n",
    "    index = pd.MultiIndex.from_product(unique_values, names=hue_cols)\n",
    "    \n",
    "    # Создаем DataFrame с этим мультииндексом\n",
    "    pivot_template = pd.DataFrame(index=index).reset_index()\n",
    "    return pivot_template\n",
    "\n",
    "_get_data_pivot_template(None, data, hue_cols ).shape"
   ]
  },
  {
   "cell_type": "code",
   "execution_count": 8,
   "metadata": {},
   "outputs": [],
   "source": [
    "city1_users_count_formula = lambda x: x[x['city'] == 'city1']['user_id'].nunique()\n",
    "def city_users_count_formula(data, cols_schema,  city='city1'): \n",
    "    user_col = cols_schema.user_id\n",
    "    return data[data['city'] == city][user_col].nunique()\n",
    "\n",
    "mkpi = MetricKPI(city1_users_count_formula, name='city1_users_count', description='desc')"
   ]
  },
  {
   "cell_type": "code",
   "execution_count": 9,
   "metadata": {},
   "outputs": [
    {
     "data": {
      "text/html": [
       "<div>\n",
       "<style scoped>\n",
       "    .dataframe tbody tr th:only-of-type {\n",
       "        vertical-align: middle;\n",
       "    }\n",
       "\n",
       "    .dataframe tbody tr th {\n",
       "        vertical-align: top;\n",
       "    }\n",
       "\n",
       "    .dataframe thead th {\n",
       "        text-align: right;\n",
       "    }\n",
       "</style>\n",
       "<table border=\"1\" class=\"dataframe\">\n",
       "  <thead>\n",
       "    <tr style=\"text-align: right;\">\n",
       "      <th></th>\n",
       "      <th>operation_system</th>\n",
       "      <th>city1_users_count</th>\n",
       "    </tr>\n",
       "  </thead>\n",
       "  <tbody>\n",
       "    <tr>\n",
       "      <th>0</th>\n",
       "      <td>iOS</td>\n",
       "      <td>226</td>\n",
       "    </tr>\n",
       "    <tr>\n",
       "      <th>1</th>\n",
       "      <td>Android</td>\n",
       "      <td>220</td>\n",
       "    </tr>\n",
       "  </tbody>\n",
       "</table>\n",
       "</div>"
      ],
      "text/plain": [
       "  operation_system  city1_users_count\n",
       "0              iOS                226\n",
       "1          Android                220"
      ]
     },
     "execution_count": 9,
     "metadata": {},
     "output_type": "execute_result"
    }
   ],
   "source": [
    "formula_kwargs = {\n",
    "    'cols_schema': ef.cols_schema,\n",
    "    # 'city': 'city7'\n",
    "}\n",
    "\n",
    "mkpi.compute_splitted_values(\n",
    "    ef, \n",
    "    hue_cols=['operation_system'], \n",
    "    # formula_kwargs=formula_kwargs\n",
    ")"
   ]
  },
  {
   "cell_type": "code",
   "execution_count": 10,
   "metadata": {},
   "outputs": [
    {
     "data": {
      "text/html": [
       "<div>\n",
       "<style scoped>\n",
       "    .dataframe tbody tr th:only-of-type {\n",
       "        vertical-align: middle;\n",
       "    }\n",
       "\n",
       "    .dataframe tbody tr th {\n",
       "        vertical-align: top;\n",
       "    }\n",
       "\n",
       "    .dataframe thead th {\n",
       "        text-align: right;\n",
       "    }\n",
       "</style>\n",
       "<table border=\"1\" class=\"dataframe\">\n",
       "  <thead>\n",
       "    <tr style=\"text-align: right;\">\n",
       "      <th></th>\n",
       "      <th>operation_system</th>\n",
       "      <th>status</th>\n",
       "      <th>city1_users_count</th>\n",
       "    </tr>\n",
       "  </thead>\n",
       "  <tbody>\n",
       "    <tr>\n",
       "      <th>0</th>\n",
       "      <td>Android</td>\n",
       "      <td>status2</td>\n",
       "      <td>123</td>\n",
       "    </tr>\n",
       "    <tr>\n",
       "      <th>1</th>\n",
       "      <td>Android</td>\n",
       "      <td>status1</td>\n",
       "      <td>111</td>\n",
       "    </tr>\n",
       "    <tr>\n",
       "      <th>2</th>\n",
       "      <td>iOS</td>\n",
       "      <td>status2</td>\n",
       "      <td>138</td>\n",
       "    </tr>\n",
       "    <tr>\n",
       "      <th>3</th>\n",
       "      <td>iOS</td>\n",
       "      <td>status1</td>\n",
       "      <td>110</td>\n",
       "    </tr>\n",
       "  </tbody>\n",
       "</table>\n",
       "</div>"
      ],
      "text/plain": [
       "  operation_system   status  city1_users_count\n",
       "0          Android  status2                123\n",
       "1          Android  status1                111\n",
       "2              iOS  status2                138\n",
       "3              iOS  status1                110"
      ]
     },
     "execution_count": 10,
     "metadata": {},
     "output_type": "execute_result"
    }
   ],
   "source": [
    "mkpi.compute_splitted_values(\n",
    "    ef.to_dataframe(), \n",
    "    hue_cols=['operation_system', 'status'], \n",
    "    # formula_kwargs=formula_kwargs\n",
    ")"
   ]
  },
  {
   "cell_type": "code",
   "execution_count": 11,
   "metadata": {},
   "outputs": [
    {
     "data": {
      "text/plain": [
       "395"
      ]
     },
     "execution_count": 11,
     "metadata": {},
     "output_type": "execute_result"
    }
   ],
   "source": [
    "mkpi.compute_splitted_values(\n",
    "    ef.to_dataframe(),  \n",
    "    # formula_kwargs=formula_kwargs\n",
    "    )"
   ]
  },
  {
   "cell_type": "code",
   "execution_count": 12,
   "metadata": {},
   "outputs": [
    {
     "data": {
      "text/plain": [
       "395"
      ]
     },
     "execution_count": 12,
     "metadata": {},
     "output_type": "execute_result"
    }
   ],
   "source": [
    "x = ef.to_dataframe()\n",
    "x[(x['city'] == 'city1') \n",
    "#   & (x['operation_system'] == 'Android')\n",
    "#     & (x['status'] == 'status1')\n",
    "    ]['user_id'].nunique()"
   ]
  },
  {
   "cell_type": "markdown",
   "metadata": {},
   "source": [
    "## Тестирование метрики динамики\n"
   ]
  },
  {
   "cell_type": "code",
   "execution_count": 13,
   "metadata": {},
   "outputs": [],
   "source": [
    "md = MetricDinamic(city1_users_count_formula, name='city1_users_count', description='desc')"
   ]
  },
  {
   "cell_type": "code",
   "execution_count": 14,
   "metadata": {},
   "outputs": [
    {
     "data": {
      "text/plain": [
       "EventFrameColsSchema(event_id=event_id, event_type=event_type, event_index=event_type_index, event_name=event, event_timestamp=event_datetime, user_id=user_id, session_id=None, cohort_group=None, custom_cols=[])"
      ]
     },
     "execution_count": 14,
     "metadata": {},
     "output_type": "execute_result"
    }
   ],
   "source": [
    "ef.cols_schema"
   ]
  },
  {
   "cell_type": "code",
   "execution_count": 17,
   "metadata": {},
   "outputs": [
    {
     "data": {
      "text/html": [
       "<div>\n",
       "<style scoped>\n",
       "    .dataframe tbody tr th:only-of-type {\n",
       "        vertical-align: middle;\n",
       "    }\n",
       "\n",
       "    .dataframe tbody tr th {\n",
       "        vertical-align: top;\n",
       "    }\n",
       "\n",
       "    .dataframe thead th {\n",
       "        text-align: right;\n",
       "    }\n",
       "</style>\n",
       "<table border=\"1\" class=\"dataframe\">\n",
       "  <thead>\n",
       "    <tr style=\"text-align: right;\">\n",
       "      <th></th>\n",
       "      <th>Month</th>\n",
       "      <th>operation_system</th>\n",
       "      <th>status</th>\n",
       "      <th>city1_users_count</th>\n",
       "    </tr>\n",
       "  </thead>\n",
       "  <tbody>\n",
       "    <tr>\n",
       "      <th>3</th>\n",
       "      <td>2024-10-01</td>\n",
       "      <td>Android</td>\n",
       "      <td>status1</td>\n",
       "      <td>17</td>\n",
       "    </tr>\n",
       "    <tr>\n",
       "      <th>2</th>\n",
       "      <td>2024-10-01</td>\n",
       "      <td>Android</td>\n",
       "      <td>status2</td>\n",
       "      <td>26</td>\n",
       "    </tr>\n",
       "    <tr>\n",
       "      <th>1</th>\n",
       "      <td>2024-10-01</td>\n",
       "      <td>iOS</td>\n",
       "      <td>status1</td>\n",
       "      <td>15</td>\n",
       "    </tr>\n",
       "    <tr>\n",
       "      <th>0</th>\n",
       "      <td>2024-10-01</td>\n",
       "      <td>iOS</td>\n",
       "      <td>status2</td>\n",
       "      <td>22</td>\n",
       "    </tr>\n",
       "    <tr>\n",
       "      <th>7</th>\n",
       "      <td>2024-11-01</td>\n",
       "      <td>Android</td>\n",
       "      <td>status1</td>\n",
       "      <td>17</td>\n",
       "    </tr>\n",
       "    <tr>\n",
       "      <th>6</th>\n",
       "      <td>2024-11-01</td>\n",
       "      <td>Android</td>\n",
       "      <td>status2</td>\n",
       "      <td>17</td>\n",
       "    </tr>\n",
       "    <tr>\n",
       "      <th>5</th>\n",
       "      <td>2024-11-01</td>\n",
       "      <td>iOS</td>\n",
       "      <td>status1</td>\n",
       "      <td>17</td>\n",
       "    </tr>\n",
       "    <tr>\n",
       "      <th>4</th>\n",
       "      <td>2024-11-01</td>\n",
       "      <td>iOS</td>\n",
       "      <td>status2</td>\n",
       "      <td>22</td>\n",
       "    </tr>\n",
       "    <tr>\n",
       "      <th>11</th>\n",
       "      <td>2024-12-01</td>\n",
       "      <td>Android</td>\n",
       "      <td>status1</td>\n",
       "      <td>18</td>\n",
       "    </tr>\n",
       "    <tr>\n",
       "      <th>10</th>\n",
       "      <td>2024-12-01</td>\n",
       "      <td>Android</td>\n",
       "      <td>status2</td>\n",
       "      <td>17</td>\n",
       "    </tr>\n",
       "    <tr>\n",
       "      <th>9</th>\n",
       "      <td>2024-12-01</td>\n",
       "      <td>iOS</td>\n",
       "      <td>status1</td>\n",
       "      <td>21</td>\n",
       "    </tr>\n",
       "    <tr>\n",
       "      <th>8</th>\n",
       "      <td>2024-12-01</td>\n",
       "      <td>iOS</td>\n",
       "      <td>status2</td>\n",
       "      <td>24</td>\n",
       "    </tr>\n",
       "    <tr>\n",
       "      <th>15</th>\n",
       "      <td>2025-01-01</td>\n",
       "      <td>Android</td>\n",
       "      <td>status1</td>\n",
       "      <td>26</td>\n",
       "    </tr>\n",
       "    <tr>\n",
       "      <th>14</th>\n",
       "      <td>2025-01-01</td>\n",
       "      <td>Android</td>\n",
       "      <td>status2</td>\n",
       "      <td>28</td>\n",
       "    </tr>\n",
       "    <tr>\n",
       "      <th>13</th>\n",
       "      <td>2025-01-01</td>\n",
       "      <td>iOS</td>\n",
       "      <td>status1</td>\n",
       "      <td>27</td>\n",
       "    </tr>\n",
       "    <tr>\n",
       "      <th>12</th>\n",
       "      <td>2025-01-01</td>\n",
       "      <td>iOS</td>\n",
       "      <td>status2</td>\n",
       "      <td>34</td>\n",
       "    </tr>\n",
       "    <tr>\n",
       "      <th>19</th>\n",
       "      <td>2025-02-01</td>\n",
       "      <td>Android</td>\n",
       "      <td>status1</td>\n",
       "      <td>19</td>\n",
       "    </tr>\n",
       "    <tr>\n",
       "      <th>18</th>\n",
       "      <td>2025-02-01</td>\n",
       "      <td>Android</td>\n",
       "      <td>status2</td>\n",
       "      <td>24</td>\n",
       "    </tr>\n",
       "    <tr>\n",
       "      <th>17</th>\n",
       "      <td>2025-02-01</td>\n",
       "      <td>iOS</td>\n",
       "      <td>status1</td>\n",
       "      <td>17</td>\n",
       "    </tr>\n",
       "    <tr>\n",
       "      <th>16</th>\n",
       "      <td>2025-02-01</td>\n",
       "      <td>iOS</td>\n",
       "      <td>status2</td>\n",
       "      <td>21</td>\n",
       "    </tr>\n",
       "    <tr>\n",
       "      <th>23</th>\n",
       "      <td>2025-03-01</td>\n",
       "      <td>Android</td>\n",
       "      <td>status1</td>\n",
       "      <td>15</td>\n",
       "    </tr>\n",
       "    <tr>\n",
       "      <th>22</th>\n",
       "      <td>2025-03-01</td>\n",
       "      <td>Android</td>\n",
       "      <td>status2</td>\n",
       "      <td>20</td>\n",
       "    </tr>\n",
       "    <tr>\n",
       "      <th>21</th>\n",
       "      <td>2025-03-01</td>\n",
       "      <td>iOS</td>\n",
       "      <td>status1</td>\n",
       "      <td>17</td>\n",
       "    </tr>\n",
       "    <tr>\n",
       "      <th>20</th>\n",
       "      <td>2025-03-01</td>\n",
       "      <td>iOS</td>\n",
       "      <td>status2</td>\n",
       "      <td>20</td>\n",
       "    </tr>\n",
       "  </tbody>\n",
       "</table>\n",
       "</div>"
      ],
      "text/plain": [
       "        Month operation_system   status  city1_users_count\n",
       "3  2024-10-01          Android  status1                 17\n",
       "2  2024-10-01          Android  status2                 26\n",
       "1  2024-10-01              iOS  status1                 15\n",
       "0  2024-10-01              iOS  status2                 22\n",
       "7  2024-11-01          Android  status1                 17\n",
       "6  2024-11-01          Android  status2                 17\n",
       "5  2024-11-01              iOS  status1                 17\n",
       "4  2024-11-01              iOS  status2                 22\n",
       "11 2024-12-01          Android  status1                 18\n",
       "10 2024-12-01          Android  status2                 17\n",
       "9  2024-12-01              iOS  status1                 21\n",
       "8  2024-12-01              iOS  status2                 24\n",
       "15 2025-01-01          Android  status1                 26\n",
       "14 2025-01-01          Android  status2                 28\n",
       "13 2025-01-01              iOS  status1                 27\n",
       "12 2025-01-01              iOS  status2                 34\n",
       "19 2025-02-01          Android  status1                 19\n",
       "18 2025-02-01          Android  status2                 24\n",
       "17 2025-02-01              iOS  status1                 17\n",
       "16 2025-02-01              iOS  status2                 21\n",
       "23 2025-03-01          Android  status1                 15\n",
       "22 2025-03-01          Android  status2                 20\n",
       "21 2025-03-01              iOS  status1                 17\n",
       "20 2025-03-01              iOS  status2                 20"
      ]
     },
     "execution_count": 17,
     "metadata": {},
     "output_type": "execute_result"
    }
   ],
   "source": [
    "\n",
    "(md.compute(ef, period='D', hue_cols=['operation_system', 'status'])['city1_users_count'] == 0).sum()\n",
    "md.compute(ef, period='M', hue_cols=['operation_system', 'status'])\n"
   ]
  },
  {
   "cell_type": "code",
   "execution_count": 18,
   "metadata": {},
   "outputs": [],
   "source": [
    "md = MetricDinamic(city_users_count_formula, name='city_users_count', description='desc')"
   ]
  },
  {
   "cell_type": "code",
   "execution_count": 19,
   "metadata": {},
   "outputs": [],
   "source": [
    "formula_kwargs = {\n",
    "    'cols_schema': ef.cols_schema,\n",
    "    'city': 'city1'\n",
    "}\n",
    "data = md.compute(ef, 'D', formula_kwargs=formula_kwargs, hue_cols=['operation_system', 'status'])"
   ]
  },
  {
   "cell_type": "markdown",
   "metadata": {},
   "source": [
    "## Визуализация метрики динамики"
   ]
  },
  {
   "cell_type": "code",
   "execution_count": 23,
   "metadata": {},
   "outputs": [],
   "source": [
    "import pandas as pd\n",
    "import seaborn as sns\n",
    "import plotly.express as px\n",
    "from typing import Optional, List, Union, Literal\n",
    "\n",
    "class DinamicMetricPlotter:\n",
    "    def __init__(self, engine: str = 'plotly'):\n",
    "        if engine not in ['seaborn', 'plotly']:\n",
    "            raise ValueError(\"Engine must be either 'seaborn' or 'plotly'\")\n",
    "        self.engine = engine\n",
    "\n",
    "    @staticmethod\n",
    "    def plot(data: pd.DataFrame, dt_col: str, value_col: str,\n",
    "             aggfunc: Union[str, Callable] = 'sum',\n",
    "             hue_cols: Optional[List[str]] = None,\n",
    "             smooth: int = 0,\n",
    "             mode: Literal['bar', 'line', 'auto'] = 'auto',\n",
    "             add_text: Union[str, bool] = 'auto',\n",
    "             engine: str = 'plotly'):\n",
    "        if engine not in ['seaborn', 'plotly']:\n",
    "            raise ValueError(\"Engine must be either 'seaborn' or 'plotly'\")\n",
    "        \n",
    "        if engine == 'seaborn':\n",
    "            DinamicMetricPlotter._plot_seaborn(data, dt_col, value_col, aggfunc, hue_cols, smooth, mode, add_text)\n",
    "        elif engine == 'plotly':\n",
    "            DinamicMetricPlotter._plot_plotly(data, dt_col, value_col, hue_cols, mode, add_text)\n",
    "\n",
    "    @staticmethod\n",
    "    def smooth_time_series(data: pd.Series, window_size: int) -> pd.Series:\n",
    "        \"\"\"\n",
    "        Применяет скользящее среднее для сглаживания временного ряда.\n",
    "        \n",
    "        :param data: pd.Series — временной ряд для сглаживания.\n",
    "        :param window_size: int — размер окна для скользящего среднего.\n",
    "        :return: pd.Series — сглаженный временной ряд.\n",
    "        \"\"\"\n",
    "        if window_size < 1:\n",
    "            return data\n",
    "        # Применяем скользящее среднее\n",
    "        return data.rolling(window=window_size, center=False).mean()\n",
    "\n",
    "    @staticmethod\n",
    "    def _plot_seaborn(data: pd.DataFrame, dt_col: str, value_col: str, aggfunc: Union[str, Callable],\n",
    "                      hue_cols: Optional[List[str]] = None, smooth:int = 0, mode: Literal['bar', 'line', 'auto'] = 'auto', \n",
    "                      add_text: Union[str, bool] = 'auto'):\n",
    "        \n",
    "        if isinstance(hue_cols, str):\n",
    "            hue_cols = [hue_cols]\n",
    "        elif hue_cols is None or len(hue_cols) == 0:\n",
    "            hue_cols = []\n",
    "\n",
    "        data = data.groupby([dt_col] + hue_cols).agg(**{\n",
    "            value_col: (value_col, aggfunc)\n",
    "        }).reset_index()\n",
    "        # return data\n",
    "        with sns.axes_style(\"darkgrid\"):\n",
    "            fig, axes = plt.subplots(figsize=(9, 4))\n",
    "\n",
    "            if len(hue_cols) == 0:\n",
    "                data.loc[:, value_col] = DinamicMetricPlotter.smooth_time_series(data[value_col], smooth)\n",
    "                # Отрисовка без hue\n",
    "                if mode == 'bar':\n",
    "                    sns.barplot(data=data, x=dt_col, y=value_col, ax=axes)\n",
    "                elif mode == 'line':\n",
    "                    sns.lineplot(data=data, x=dt_col, y=value_col, ax=axes)\n",
    "                else:\n",
    "                    # Авто-определение режима\n",
    "                    if data[dt_col].nunique() < 20:\n",
    "                        sns.barplot(data=data, x=dt_col, y=value_col, ax=axes)\n",
    "                    else:\n",
    "                        sns.lineplot(data=data, x=dt_col, y=value_col, ax=axes)\n",
    "            else:\n",
    "                # У нас есть hue_cols\n",
    "                if len(hue_cols) == 1:\n",
    "                    unique_hues = data[hue_cols[0]].unique()\n",
    "                    for hue in unique_hues:\n",
    "                        subset = data[data[hue_cols[0]] == hue]\n",
    "                        subset.loc[:, value_col] = DinamicMetricPlotter.smooth_time_series(subset[value_col], smooth)\n",
    "                        if mode == 'bar':\n",
    "                            sns.barplot(data=subset, x=dt_col, y=value_col, label=hue)\n",
    "                        elif mode == 'line':\n",
    "                            sns.lineplot(data=subset, x=dt_col, y=value_col, label=hue)\n",
    "                        else:\n",
    "                            if subset[dt_col].nunique() < 20:\n",
    "                                sns.barplot(data=subset, x=dt_col, y=value_col, label=hue)\n",
    "                            else:\n",
    "                                sns.lineplot(data=subset, x=dt_col, y=value_col, label=hue)\n",
    "                else:\n",
    "                    # Более одного hue\n",
    "                    unique_combinations = data[hue_cols].drop_duplicates()\n",
    "                    for _, combo in unique_combinations.iterrows():\n",
    "                        combo_label  = ' & '.join(combo.apply(lambda x: f\"{combo.index[combo == x][0]}={x}\"))\n",
    "                        subset = data[(data[hue_cols] == combo).all(axis=1)]\n",
    "                        subset.loc[:, value_col] = DinamicMetricPlotter.smooth_time_series(subset[value_col], smooth)\n",
    "                        if mode == 'bar':\n",
    "                            sns.barplot(data=subset, x=dt_col, y=value_col, label=combo_label)\n",
    "                        elif mode == 'line':\n",
    "                            sns.lineplot(data=subset, x=dt_col, y=value_col, label=combo_label)\n",
    "                        else:\n",
    "                            if subset[dt_col].nunique() < 20:\n",
    "                                sns.barplot(data=subset, x=dt_col, y=value_col, label=combo_label)\n",
    "                            else:\n",
    "                                sns.lineplot(data=subset, x=dt_col, y=value_col, label=combo_label)\n",
    "\n",
    "    @staticmethod\n",
    "    def _plot_plotly(data: pd.DataFrame, dt_col: str, value_col: str,\n",
    "                     hue_cols: Optional[List[str]], aggfunc: Union[str, Callable], mode: Literal['bar', 'line', 'auto'],\n",
    "                     add_text: Union[str, bool]):\n",
    "        \n",
    "        if isinstance(hue_cols, str):\n",
    "            hue_cols = [hue_cols]\n",
    "        elif hue_cols is None or len(hue_cols) == 0:\n",
    "            hue_cols = []\n",
    "\n",
    "        data = data.groupby([dt_col] + hue_cols).agg(**{\n",
    "            value_col: (value_col, aggfunc)\n",
    "        }).reset_index()\n",
    "\n",
    "        if mode == 'auto':\n",
    "            if data[dt_col].nunique() < 20:\n",
    "                mode = 'bar'\n",
    "            else:\n",
    "                mode = 'line'\n",
    "        \n",
    "        if len(hue_cols) == 0:\n",
    "            # Отрисовка без hue\n",
    "            if mode == 'bar':\n",
    "                fig = px.bar(data, x=dt_col, y=value_col, text_auto=True)\n",
    "            elif mode == 'line':\n",
    "                fig = px.line(data, x=dt_col, y=value_col, text_auto=True)\n",
    "\n",
    "        elif len(hue_cols) == 1:\n",
    "            if mode == 'line':\n",
    "                fig = px.line(data, x=dt_col, y=value_col, color=hue_cols[0], text_auto=True)\n",
    "            else:\n",
    "                fig = px.bar(data, x=dt_col, y=value_col, color=hue_cols[0], text_auto=True)\n",
    "        else:\n",
    "            fig = None\n",
    "            unique_combinations = data[hue_cols].drop_duplicates()\n",
    "            for _, combo in unique_combinations.iterrows():\n",
    "                combo_label  = ' & '.join(combo.apply(lambda x: f\"{combo.index[combo == x][0]}={x}\"))\n",
    "                subset = data[(data[hue_cols] == combo).all(axis=1)]\n",
    "                subset.loc[:, value_col] = DinamicMetricPlotter.smooth_time_series(subset[value_col], smooth)\n",
    "                if mode == 'bar':\n",
    "                    sns.barplot(data=subset, x=dt_col, y=value_col, label=combo_label)\n",
    "                elif mode == 'line':\n",
    "                    sns.lineplot(data=subset, x=dt_col, y=value_col, label=combo_label)\n",
    "\n",
    "            fig = px.line(data, x=dt_col, y=value_col, color=hue_cols) if mode == 'line' else px.bar(data, x=dt_col, y=value_col, color=hue_cols)\n",
    "        \n",
    "        # Отображение текста, если нужно\n",
    "        if add_text:\n",
    "            fig.update_traces(text=data[value_col] if isinstance(add_text, str) and add_text == 'text' else None, textposition=\"auto\")\n",
    "\n",
    "        fig.show()\n",
    "\n",
    "# Пример использования\n",
    "# plotter = DinamicMetricPlotter('seaborn')\n",
    "# plotter.plot(data, 'date_column', 'value_column', hue_cols=['hue_column'])\n",
    "\n",
    "# или plotter = DinamicMetricPlotter('plotly')\n",
    "# plotter.plot(data, 'date_column', 'value_column', hue_cols=['hue_column'])"
   ]
  },
  {
   "cell_type": "code",
   "execution_count": 24,
   "metadata": {},
   "outputs": [],
   "source": [
    "dt_col = 'date'\n",
    "value_col = 'city_users_count'\n",
    "aggfunc = 'sum'\n",
    "\n",
    "def _plot_plotly(data: pd.DataFrame, dt_col: str, value_col: str,\n",
    "                     hue_cols: Optional[List[str]], mode: Literal['bar', 'line', 'auto'],\n",
    "                     add_text: Union[str, bool]):\n",
    "        \n",
    "    if hue_cols is None or len(hue_cols) == 0:\n",
    "        # Отрисовка без hue\n",
    "        if mode == 'bar':\n",
    "            fig = px.bar(data, x=dt_col, y=value_col)\n",
    "        elif mode == 'line':\n",
    "            fig = px.line(data, x=dt_col, y=value_col)\n",
    "        else:\n",
    "            if data[dt_col].nunique() < 20:\n",
    "                fig = px.bar(data, x=dt_col, y=value_col)\n",
    "            else:\n",
    "                fig = px.line(data, x=dt_col, y=value_col)\n",
    "    else:\n",
    "        # У нас есть hue_cols\n",
    "        if len(hue_cols) == 1:\n",
    "            \n",
    "            fig = px.line(data, x=dt_col, y=value_col, color=hue_cols[0]) if mode == 'line' else px.bar(data, x=dt_col, y=value_col, color=hue_cols[0])\n",
    "        else:\n",
    "            fig = px.line(data, x=dt_col, y=value_col, color=hue_cols) if mode == 'line' else px.bar(data, x=dt_col, y=value_col, color=hue_cols)\n",
    "    \n",
    "    # Отображение текста, если нужно\n",
    "    if add_text:\n",
    "        fig.update_traces(text=data[value_col] if isinstance(add_text, str) and add_text == 'text' else None, textposition=\"auto\")\n",
    "\n",
    "    fig.show()"
   ]
  },
  {
   "cell_type": "code",
   "execution_count": 27,
   "metadata": {},
   "outputs": [
    {
     "data": {
      "application/vnd.plotly.v1+json": {
       "config": {
        "plotlyServerURL": "https://plot.ly"
       },
       "data": [
        {
         "hovertemplate": "date=%{x}<br>city_users_count=%{y}<extra></extra>",
         "legendgroup": "",
         "marker": {
          "color": "#636efa",
          "pattern": {
           "shape": ""
          }
         },
         "name": "",
         "orientation": "v",
         "showlegend": false,
         "textposition": "auto",
         "type": "bar",
         "x": [
          "2024-10-01T00:00:00.000000000",
          "2024-10-01T00:00:00.000000000",
          "2024-10-01T00:00:00.000000000",
          "2024-10-01T00:00:00.000000000",
          "2024-10-02T00:00:00.000000000",
          "2024-10-02T00:00:00.000000000",
          "2024-10-02T00:00:00.000000000",
          "2024-10-02T00:00:00.000000000",
          "2024-10-03T00:00:00.000000000",
          "2024-10-03T00:00:00.000000000",
          "2024-10-03T00:00:00.000000000",
          "2024-10-03T00:00:00.000000000",
          "2024-10-04T00:00:00.000000000",
          "2024-10-04T00:00:00.000000000",
          "2024-10-04T00:00:00.000000000",
          "2024-10-04T00:00:00.000000000",
          "2024-10-05T00:00:00.000000000",
          "2024-10-05T00:00:00.000000000",
          "2024-10-05T00:00:00.000000000",
          "2024-10-05T00:00:00.000000000",
          "2024-10-06T00:00:00.000000000",
          "2024-10-06T00:00:00.000000000",
          "2024-10-06T00:00:00.000000000",
          "2024-10-06T00:00:00.000000000",
          "2024-10-07T00:00:00.000000000",
          "2024-10-07T00:00:00.000000000",
          "2024-10-07T00:00:00.000000000",
          "2024-10-07T00:00:00.000000000",
          "2024-10-08T00:00:00.000000000",
          "2024-10-08T00:00:00.000000000",
          "2024-10-08T00:00:00.000000000",
          "2024-10-08T00:00:00.000000000",
          "2024-10-09T00:00:00.000000000",
          "2024-10-09T00:00:00.000000000",
          "2024-10-09T00:00:00.000000000",
          "2024-10-09T00:00:00.000000000",
          "2024-10-10T00:00:00.000000000",
          "2024-10-10T00:00:00.000000000",
          "2024-10-10T00:00:00.000000000",
          "2024-10-10T00:00:00.000000000",
          "2024-10-11T00:00:00.000000000",
          "2024-10-11T00:00:00.000000000",
          "2024-10-11T00:00:00.000000000",
          "2024-10-11T00:00:00.000000000",
          "2024-10-12T00:00:00.000000000",
          "2024-10-12T00:00:00.000000000",
          "2024-10-12T00:00:00.000000000",
          "2024-10-12T00:00:00.000000000",
          "2024-10-13T00:00:00.000000000",
          "2024-10-13T00:00:00.000000000",
          "2024-10-13T00:00:00.000000000",
          "2024-10-13T00:00:00.000000000",
          "2024-10-14T00:00:00.000000000",
          "2024-10-14T00:00:00.000000000",
          "2024-10-14T00:00:00.000000000",
          "2024-10-14T00:00:00.000000000",
          "2024-10-15T00:00:00.000000000",
          "2024-10-15T00:00:00.000000000",
          "2024-10-15T00:00:00.000000000",
          "2024-10-15T00:00:00.000000000",
          "2024-10-16T00:00:00.000000000",
          "2024-10-16T00:00:00.000000000",
          "2024-10-16T00:00:00.000000000",
          "2024-10-16T00:00:00.000000000",
          "2024-10-17T00:00:00.000000000",
          "2024-10-17T00:00:00.000000000",
          "2024-10-17T00:00:00.000000000",
          "2024-10-17T00:00:00.000000000",
          "2024-10-18T00:00:00.000000000",
          "2024-10-18T00:00:00.000000000",
          "2024-10-18T00:00:00.000000000",
          "2024-10-18T00:00:00.000000000",
          "2024-10-19T00:00:00.000000000",
          "2024-10-19T00:00:00.000000000",
          "2024-10-19T00:00:00.000000000",
          "2024-10-19T00:00:00.000000000",
          "2024-10-20T00:00:00.000000000",
          "2024-10-20T00:00:00.000000000",
          "2024-10-20T00:00:00.000000000",
          "2024-10-20T00:00:00.000000000",
          "2024-10-21T00:00:00.000000000",
          "2024-10-21T00:00:00.000000000",
          "2024-10-21T00:00:00.000000000",
          "2024-10-21T00:00:00.000000000",
          "2024-10-22T00:00:00.000000000",
          "2024-10-22T00:00:00.000000000",
          "2024-10-22T00:00:00.000000000",
          "2024-10-22T00:00:00.000000000",
          "2024-10-23T00:00:00.000000000",
          "2024-10-23T00:00:00.000000000",
          "2024-10-23T00:00:00.000000000",
          "2024-10-23T00:00:00.000000000",
          "2024-10-24T00:00:00.000000000",
          "2024-10-24T00:00:00.000000000",
          "2024-10-24T00:00:00.000000000",
          "2024-10-24T00:00:00.000000000",
          "2024-10-25T00:00:00.000000000",
          "2024-10-25T00:00:00.000000000",
          "2024-10-25T00:00:00.000000000",
          "2024-10-25T00:00:00.000000000",
          "2024-10-26T00:00:00.000000000",
          "2024-10-26T00:00:00.000000000",
          "2024-10-26T00:00:00.000000000",
          "2024-10-26T00:00:00.000000000",
          "2024-10-27T00:00:00.000000000",
          "2024-10-27T00:00:00.000000000",
          "2024-10-27T00:00:00.000000000",
          "2024-10-27T00:00:00.000000000",
          "2024-10-28T00:00:00.000000000",
          "2024-10-28T00:00:00.000000000",
          "2024-10-28T00:00:00.000000000",
          "2024-10-28T00:00:00.000000000",
          "2024-10-29T00:00:00.000000000",
          "2024-10-29T00:00:00.000000000",
          "2024-10-29T00:00:00.000000000",
          "2024-10-29T00:00:00.000000000",
          "2024-10-30T00:00:00.000000000",
          "2024-10-30T00:00:00.000000000",
          "2024-10-30T00:00:00.000000000",
          "2024-10-30T00:00:00.000000000",
          "2024-10-31T00:00:00.000000000",
          "2024-10-31T00:00:00.000000000",
          "2024-10-31T00:00:00.000000000",
          "2024-10-31T00:00:00.000000000",
          "2024-11-01T00:00:00.000000000",
          "2024-11-01T00:00:00.000000000",
          "2024-11-01T00:00:00.000000000",
          "2024-11-01T00:00:00.000000000",
          "2024-11-02T00:00:00.000000000",
          "2024-11-02T00:00:00.000000000",
          "2024-11-02T00:00:00.000000000",
          "2024-11-02T00:00:00.000000000",
          "2024-11-03T00:00:00.000000000",
          "2024-11-03T00:00:00.000000000",
          "2024-11-03T00:00:00.000000000",
          "2024-11-03T00:00:00.000000000",
          "2024-11-04T00:00:00.000000000",
          "2024-11-04T00:00:00.000000000",
          "2024-11-04T00:00:00.000000000",
          "2024-11-04T00:00:00.000000000",
          "2024-11-05T00:00:00.000000000",
          "2024-11-05T00:00:00.000000000",
          "2024-11-05T00:00:00.000000000",
          "2024-11-05T00:00:00.000000000",
          "2024-11-06T00:00:00.000000000",
          "2024-11-06T00:00:00.000000000",
          "2024-11-06T00:00:00.000000000",
          "2024-11-06T00:00:00.000000000",
          "2024-11-07T00:00:00.000000000",
          "2024-11-07T00:00:00.000000000",
          "2024-11-07T00:00:00.000000000",
          "2024-11-07T00:00:00.000000000",
          "2024-11-08T00:00:00.000000000",
          "2024-11-08T00:00:00.000000000",
          "2024-11-08T00:00:00.000000000",
          "2024-11-08T00:00:00.000000000",
          "2024-11-09T00:00:00.000000000",
          "2024-11-09T00:00:00.000000000",
          "2024-11-09T00:00:00.000000000",
          "2024-11-09T00:00:00.000000000",
          "2024-11-10T00:00:00.000000000",
          "2024-11-10T00:00:00.000000000",
          "2024-11-10T00:00:00.000000000",
          "2024-11-10T00:00:00.000000000",
          "2024-11-11T00:00:00.000000000",
          "2024-11-11T00:00:00.000000000",
          "2024-11-11T00:00:00.000000000",
          "2024-11-11T00:00:00.000000000",
          "2024-11-12T00:00:00.000000000",
          "2024-11-12T00:00:00.000000000",
          "2024-11-12T00:00:00.000000000",
          "2024-11-12T00:00:00.000000000",
          "2024-11-13T00:00:00.000000000",
          "2024-11-13T00:00:00.000000000",
          "2024-11-13T00:00:00.000000000",
          "2024-11-13T00:00:00.000000000",
          "2024-11-14T00:00:00.000000000",
          "2024-11-14T00:00:00.000000000",
          "2024-11-14T00:00:00.000000000",
          "2024-11-14T00:00:00.000000000",
          "2024-11-15T00:00:00.000000000",
          "2024-11-15T00:00:00.000000000",
          "2024-11-15T00:00:00.000000000",
          "2024-11-15T00:00:00.000000000",
          "2024-11-16T00:00:00.000000000",
          "2024-11-16T00:00:00.000000000",
          "2024-11-16T00:00:00.000000000",
          "2024-11-16T00:00:00.000000000",
          "2024-11-17T00:00:00.000000000",
          "2024-11-17T00:00:00.000000000",
          "2024-11-17T00:00:00.000000000",
          "2024-11-17T00:00:00.000000000",
          "2024-11-18T00:00:00.000000000",
          "2024-11-18T00:00:00.000000000",
          "2024-11-18T00:00:00.000000000",
          "2024-11-18T00:00:00.000000000",
          "2024-11-19T00:00:00.000000000",
          "2024-11-19T00:00:00.000000000",
          "2024-11-19T00:00:00.000000000",
          "2024-11-19T00:00:00.000000000",
          "2024-11-20T00:00:00.000000000",
          "2024-11-20T00:00:00.000000000",
          "2024-11-20T00:00:00.000000000",
          "2024-11-20T00:00:00.000000000",
          "2024-11-21T00:00:00.000000000",
          "2024-11-21T00:00:00.000000000",
          "2024-11-21T00:00:00.000000000",
          "2024-11-21T00:00:00.000000000",
          "2024-11-22T00:00:00.000000000",
          "2024-11-22T00:00:00.000000000",
          "2024-11-22T00:00:00.000000000",
          "2024-11-22T00:00:00.000000000",
          "2024-11-23T00:00:00.000000000",
          "2024-11-23T00:00:00.000000000",
          "2024-11-23T00:00:00.000000000",
          "2024-11-23T00:00:00.000000000",
          "2024-11-24T00:00:00.000000000",
          "2024-11-24T00:00:00.000000000",
          "2024-11-24T00:00:00.000000000",
          "2024-11-24T00:00:00.000000000",
          "2024-11-25T00:00:00.000000000",
          "2024-11-25T00:00:00.000000000",
          "2024-11-25T00:00:00.000000000",
          "2024-11-25T00:00:00.000000000",
          "2024-11-26T00:00:00.000000000",
          "2024-11-26T00:00:00.000000000",
          "2024-11-26T00:00:00.000000000",
          "2024-11-26T00:00:00.000000000",
          "2024-11-27T00:00:00.000000000",
          "2024-11-27T00:00:00.000000000",
          "2024-11-27T00:00:00.000000000",
          "2024-11-27T00:00:00.000000000",
          "2024-11-28T00:00:00.000000000",
          "2024-11-28T00:00:00.000000000",
          "2024-11-28T00:00:00.000000000",
          "2024-11-28T00:00:00.000000000",
          "2024-11-29T00:00:00.000000000",
          "2024-11-29T00:00:00.000000000",
          "2024-11-29T00:00:00.000000000",
          "2024-11-29T00:00:00.000000000",
          "2024-11-30T00:00:00.000000000",
          "2024-11-30T00:00:00.000000000",
          "2024-11-30T00:00:00.000000000",
          "2024-11-30T00:00:00.000000000",
          "2024-12-01T00:00:00.000000000",
          "2024-12-01T00:00:00.000000000",
          "2024-12-01T00:00:00.000000000",
          "2024-12-01T00:00:00.000000000",
          "2024-12-02T00:00:00.000000000",
          "2024-12-02T00:00:00.000000000",
          "2024-12-02T00:00:00.000000000",
          "2024-12-02T00:00:00.000000000",
          "2024-12-03T00:00:00.000000000",
          "2024-12-03T00:00:00.000000000",
          "2024-12-03T00:00:00.000000000",
          "2024-12-03T00:00:00.000000000",
          "2024-12-04T00:00:00.000000000",
          "2024-12-04T00:00:00.000000000",
          "2024-12-04T00:00:00.000000000",
          "2024-12-04T00:00:00.000000000",
          "2024-12-05T00:00:00.000000000",
          "2024-12-05T00:00:00.000000000",
          "2024-12-05T00:00:00.000000000",
          "2024-12-05T00:00:00.000000000",
          "2024-12-06T00:00:00.000000000",
          "2024-12-06T00:00:00.000000000",
          "2024-12-06T00:00:00.000000000",
          "2024-12-06T00:00:00.000000000",
          "2024-12-07T00:00:00.000000000",
          "2024-12-07T00:00:00.000000000",
          "2024-12-07T00:00:00.000000000",
          "2024-12-07T00:00:00.000000000",
          "2024-12-08T00:00:00.000000000",
          "2024-12-08T00:00:00.000000000",
          "2024-12-08T00:00:00.000000000",
          "2024-12-08T00:00:00.000000000",
          "2024-12-09T00:00:00.000000000",
          "2024-12-09T00:00:00.000000000",
          "2024-12-09T00:00:00.000000000",
          "2024-12-09T00:00:00.000000000",
          "2024-12-10T00:00:00.000000000",
          "2024-12-10T00:00:00.000000000",
          "2024-12-10T00:00:00.000000000",
          "2024-12-10T00:00:00.000000000",
          "2024-12-11T00:00:00.000000000",
          "2024-12-11T00:00:00.000000000",
          "2024-12-11T00:00:00.000000000",
          "2024-12-11T00:00:00.000000000",
          "2024-12-12T00:00:00.000000000",
          "2024-12-12T00:00:00.000000000",
          "2024-12-12T00:00:00.000000000",
          "2024-12-12T00:00:00.000000000",
          "2024-12-13T00:00:00.000000000",
          "2024-12-13T00:00:00.000000000",
          "2024-12-13T00:00:00.000000000",
          "2024-12-13T00:00:00.000000000",
          "2024-12-14T00:00:00.000000000",
          "2024-12-14T00:00:00.000000000",
          "2024-12-14T00:00:00.000000000",
          "2024-12-14T00:00:00.000000000",
          "2024-12-15T00:00:00.000000000",
          "2024-12-15T00:00:00.000000000",
          "2024-12-15T00:00:00.000000000",
          "2024-12-15T00:00:00.000000000",
          "2024-12-16T00:00:00.000000000",
          "2024-12-16T00:00:00.000000000",
          "2024-12-16T00:00:00.000000000",
          "2024-12-16T00:00:00.000000000",
          "2024-12-17T00:00:00.000000000",
          "2024-12-17T00:00:00.000000000",
          "2024-12-17T00:00:00.000000000",
          "2024-12-17T00:00:00.000000000",
          "2024-12-18T00:00:00.000000000",
          "2024-12-18T00:00:00.000000000",
          "2024-12-18T00:00:00.000000000",
          "2024-12-18T00:00:00.000000000",
          "2024-12-19T00:00:00.000000000",
          "2024-12-19T00:00:00.000000000",
          "2024-12-19T00:00:00.000000000",
          "2024-12-19T00:00:00.000000000",
          "2024-12-20T00:00:00.000000000",
          "2024-12-20T00:00:00.000000000",
          "2024-12-20T00:00:00.000000000",
          "2024-12-20T00:00:00.000000000",
          "2024-12-21T00:00:00.000000000",
          "2024-12-21T00:00:00.000000000",
          "2024-12-21T00:00:00.000000000",
          "2024-12-21T00:00:00.000000000",
          "2024-12-22T00:00:00.000000000",
          "2024-12-22T00:00:00.000000000",
          "2024-12-22T00:00:00.000000000",
          "2024-12-22T00:00:00.000000000",
          "2024-12-23T00:00:00.000000000",
          "2024-12-23T00:00:00.000000000",
          "2024-12-23T00:00:00.000000000",
          "2024-12-23T00:00:00.000000000",
          "2024-12-24T00:00:00.000000000",
          "2024-12-24T00:00:00.000000000",
          "2024-12-24T00:00:00.000000000",
          "2024-12-24T00:00:00.000000000",
          "2024-12-25T00:00:00.000000000",
          "2024-12-25T00:00:00.000000000",
          "2024-12-25T00:00:00.000000000",
          "2024-12-25T00:00:00.000000000",
          "2024-12-26T00:00:00.000000000",
          "2024-12-26T00:00:00.000000000",
          "2024-12-26T00:00:00.000000000",
          "2024-12-26T00:00:00.000000000",
          "2024-12-27T00:00:00.000000000",
          "2024-12-27T00:00:00.000000000",
          "2024-12-27T00:00:00.000000000",
          "2024-12-27T00:00:00.000000000",
          "2024-12-28T00:00:00.000000000",
          "2024-12-28T00:00:00.000000000",
          "2024-12-28T00:00:00.000000000",
          "2024-12-28T00:00:00.000000000",
          "2024-12-29T00:00:00.000000000",
          "2024-12-29T00:00:00.000000000",
          "2024-12-29T00:00:00.000000000",
          "2024-12-29T00:00:00.000000000",
          "2024-12-30T00:00:00.000000000",
          "2024-12-30T00:00:00.000000000",
          "2024-12-30T00:00:00.000000000",
          "2024-12-30T00:00:00.000000000",
          "2024-12-31T00:00:00.000000000",
          "2024-12-31T00:00:00.000000000",
          "2024-12-31T00:00:00.000000000",
          "2024-12-31T00:00:00.000000000",
          "2025-01-01T00:00:00.000000000",
          "2025-01-01T00:00:00.000000000",
          "2025-01-01T00:00:00.000000000",
          "2025-01-01T00:00:00.000000000",
          "2025-01-02T00:00:00.000000000",
          "2025-01-02T00:00:00.000000000",
          "2025-01-02T00:00:00.000000000",
          "2025-01-02T00:00:00.000000000",
          "2025-01-03T00:00:00.000000000",
          "2025-01-03T00:00:00.000000000",
          "2025-01-03T00:00:00.000000000",
          "2025-01-03T00:00:00.000000000",
          "2025-01-04T00:00:00.000000000",
          "2025-01-04T00:00:00.000000000",
          "2025-01-04T00:00:00.000000000",
          "2025-01-04T00:00:00.000000000",
          "2025-01-05T00:00:00.000000000",
          "2025-01-05T00:00:00.000000000",
          "2025-01-05T00:00:00.000000000",
          "2025-01-05T00:00:00.000000000",
          "2025-01-06T00:00:00.000000000",
          "2025-01-06T00:00:00.000000000",
          "2025-01-06T00:00:00.000000000",
          "2025-01-06T00:00:00.000000000",
          "2025-01-07T00:00:00.000000000",
          "2025-01-07T00:00:00.000000000",
          "2025-01-07T00:00:00.000000000",
          "2025-01-07T00:00:00.000000000",
          "2025-01-08T00:00:00.000000000",
          "2025-01-08T00:00:00.000000000",
          "2025-01-08T00:00:00.000000000",
          "2025-01-08T00:00:00.000000000",
          "2025-01-09T00:00:00.000000000",
          "2025-01-09T00:00:00.000000000",
          "2025-01-09T00:00:00.000000000",
          "2025-01-09T00:00:00.000000000",
          "2025-01-10T00:00:00.000000000",
          "2025-01-10T00:00:00.000000000",
          "2025-01-10T00:00:00.000000000",
          "2025-01-10T00:00:00.000000000",
          "2025-01-11T00:00:00.000000000",
          "2025-01-11T00:00:00.000000000",
          "2025-01-11T00:00:00.000000000",
          "2025-01-11T00:00:00.000000000",
          "2025-01-12T00:00:00.000000000",
          "2025-01-12T00:00:00.000000000",
          "2025-01-12T00:00:00.000000000",
          "2025-01-12T00:00:00.000000000",
          "2025-01-13T00:00:00.000000000",
          "2025-01-13T00:00:00.000000000",
          "2025-01-13T00:00:00.000000000",
          "2025-01-13T00:00:00.000000000",
          "2025-01-14T00:00:00.000000000",
          "2025-01-14T00:00:00.000000000",
          "2025-01-14T00:00:00.000000000",
          "2025-01-14T00:00:00.000000000",
          "2025-01-15T00:00:00.000000000",
          "2025-01-15T00:00:00.000000000",
          "2025-01-15T00:00:00.000000000",
          "2025-01-15T00:00:00.000000000",
          "2025-01-16T00:00:00.000000000",
          "2025-01-16T00:00:00.000000000",
          "2025-01-16T00:00:00.000000000",
          "2025-01-16T00:00:00.000000000",
          "2025-01-17T00:00:00.000000000",
          "2025-01-17T00:00:00.000000000",
          "2025-01-17T00:00:00.000000000",
          "2025-01-17T00:00:00.000000000",
          "2025-01-18T00:00:00.000000000",
          "2025-01-18T00:00:00.000000000",
          "2025-01-18T00:00:00.000000000",
          "2025-01-18T00:00:00.000000000",
          "2025-01-19T00:00:00.000000000",
          "2025-01-19T00:00:00.000000000",
          "2025-01-19T00:00:00.000000000",
          "2025-01-19T00:00:00.000000000",
          "2025-01-20T00:00:00.000000000",
          "2025-01-20T00:00:00.000000000",
          "2025-01-20T00:00:00.000000000",
          "2025-01-20T00:00:00.000000000",
          "2025-01-21T00:00:00.000000000",
          "2025-01-21T00:00:00.000000000",
          "2025-01-21T00:00:00.000000000",
          "2025-01-21T00:00:00.000000000",
          "2025-01-22T00:00:00.000000000",
          "2025-01-22T00:00:00.000000000",
          "2025-01-22T00:00:00.000000000",
          "2025-01-22T00:00:00.000000000",
          "2025-01-23T00:00:00.000000000",
          "2025-01-23T00:00:00.000000000",
          "2025-01-23T00:00:00.000000000",
          "2025-01-23T00:00:00.000000000",
          "2025-01-24T00:00:00.000000000",
          "2025-01-24T00:00:00.000000000",
          "2025-01-24T00:00:00.000000000",
          "2025-01-24T00:00:00.000000000",
          "2025-01-25T00:00:00.000000000",
          "2025-01-25T00:00:00.000000000",
          "2025-01-25T00:00:00.000000000",
          "2025-01-25T00:00:00.000000000",
          "2025-01-26T00:00:00.000000000",
          "2025-01-26T00:00:00.000000000",
          "2025-01-26T00:00:00.000000000",
          "2025-01-26T00:00:00.000000000",
          "2025-01-27T00:00:00.000000000",
          "2025-01-27T00:00:00.000000000",
          "2025-01-27T00:00:00.000000000",
          "2025-01-27T00:00:00.000000000",
          "2025-01-28T00:00:00.000000000",
          "2025-01-28T00:00:00.000000000",
          "2025-01-28T00:00:00.000000000",
          "2025-01-28T00:00:00.000000000",
          "2025-01-29T00:00:00.000000000",
          "2025-01-29T00:00:00.000000000",
          "2025-01-29T00:00:00.000000000",
          "2025-01-29T00:00:00.000000000",
          "2025-01-30T00:00:00.000000000",
          "2025-01-30T00:00:00.000000000",
          "2025-01-30T00:00:00.000000000",
          "2025-01-30T00:00:00.000000000",
          "2025-01-31T00:00:00.000000000",
          "2025-01-31T00:00:00.000000000",
          "2025-01-31T00:00:00.000000000",
          "2025-01-31T00:00:00.000000000",
          "2025-02-01T00:00:00.000000000",
          "2025-02-01T00:00:00.000000000",
          "2025-02-01T00:00:00.000000000",
          "2025-02-01T00:00:00.000000000",
          "2025-02-02T00:00:00.000000000",
          "2025-02-02T00:00:00.000000000",
          "2025-02-02T00:00:00.000000000",
          "2025-02-02T00:00:00.000000000",
          "2025-02-03T00:00:00.000000000",
          "2025-02-03T00:00:00.000000000",
          "2025-02-03T00:00:00.000000000",
          "2025-02-03T00:00:00.000000000",
          "2025-02-04T00:00:00.000000000",
          "2025-02-04T00:00:00.000000000",
          "2025-02-04T00:00:00.000000000",
          "2025-02-04T00:00:00.000000000",
          "2025-02-05T00:00:00.000000000",
          "2025-02-05T00:00:00.000000000",
          "2025-02-05T00:00:00.000000000",
          "2025-02-05T00:00:00.000000000",
          "2025-02-06T00:00:00.000000000",
          "2025-02-06T00:00:00.000000000",
          "2025-02-06T00:00:00.000000000",
          "2025-02-06T00:00:00.000000000",
          "2025-02-07T00:00:00.000000000",
          "2025-02-07T00:00:00.000000000",
          "2025-02-07T00:00:00.000000000",
          "2025-02-07T00:00:00.000000000",
          "2025-02-08T00:00:00.000000000",
          "2025-02-08T00:00:00.000000000",
          "2025-02-08T00:00:00.000000000",
          "2025-02-08T00:00:00.000000000",
          "2025-02-09T00:00:00.000000000",
          "2025-02-09T00:00:00.000000000",
          "2025-02-09T00:00:00.000000000",
          "2025-02-09T00:00:00.000000000",
          "2025-02-10T00:00:00.000000000",
          "2025-02-10T00:00:00.000000000",
          "2025-02-10T00:00:00.000000000",
          "2025-02-10T00:00:00.000000000",
          "2025-02-11T00:00:00.000000000",
          "2025-02-11T00:00:00.000000000",
          "2025-02-11T00:00:00.000000000",
          "2025-02-11T00:00:00.000000000",
          "2025-02-12T00:00:00.000000000",
          "2025-02-12T00:00:00.000000000",
          "2025-02-12T00:00:00.000000000",
          "2025-02-12T00:00:00.000000000",
          "2025-02-13T00:00:00.000000000",
          "2025-02-13T00:00:00.000000000",
          "2025-02-13T00:00:00.000000000",
          "2025-02-13T00:00:00.000000000",
          "2025-02-14T00:00:00.000000000",
          "2025-02-14T00:00:00.000000000",
          "2025-02-14T00:00:00.000000000",
          "2025-02-14T00:00:00.000000000",
          "2025-02-15T00:00:00.000000000",
          "2025-02-15T00:00:00.000000000",
          "2025-02-15T00:00:00.000000000",
          "2025-02-15T00:00:00.000000000",
          "2025-02-16T00:00:00.000000000",
          "2025-02-16T00:00:00.000000000",
          "2025-02-16T00:00:00.000000000",
          "2025-02-16T00:00:00.000000000",
          "2025-02-17T00:00:00.000000000",
          "2025-02-17T00:00:00.000000000",
          "2025-02-17T00:00:00.000000000",
          "2025-02-17T00:00:00.000000000",
          "2025-02-18T00:00:00.000000000",
          "2025-02-18T00:00:00.000000000",
          "2025-02-18T00:00:00.000000000",
          "2025-02-18T00:00:00.000000000",
          "2025-02-19T00:00:00.000000000",
          "2025-02-19T00:00:00.000000000",
          "2025-02-19T00:00:00.000000000",
          "2025-02-19T00:00:00.000000000",
          "2025-02-20T00:00:00.000000000",
          "2025-02-20T00:00:00.000000000",
          "2025-02-20T00:00:00.000000000",
          "2025-02-20T00:00:00.000000000",
          "2025-02-21T00:00:00.000000000",
          "2025-02-21T00:00:00.000000000",
          "2025-02-21T00:00:00.000000000",
          "2025-02-21T00:00:00.000000000",
          "2025-02-22T00:00:00.000000000",
          "2025-02-22T00:00:00.000000000",
          "2025-02-22T00:00:00.000000000",
          "2025-02-22T00:00:00.000000000",
          "2025-02-23T00:00:00.000000000",
          "2025-02-23T00:00:00.000000000",
          "2025-02-23T00:00:00.000000000",
          "2025-02-23T00:00:00.000000000",
          "2025-02-24T00:00:00.000000000",
          "2025-02-24T00:00:00.000000000",
          "2025-02-24T00:00:00.000000000",
          "2025-02-24T00:00:00.000000000",
          "2025-02-25T00:00:00.000000000",
          "2025-02-25T00:00:00.000000000",
          "2025-02-25T00:00:00.000000000",
          "2025-02-25T00:00:00.000000000",
          "2025-02-26T00:00:00.000000000",
          "2025-02-26T00:00:00.000000000",
          "2025-02-26T00:00:00.000000000",
          "2025-02-26T00:00:00.000000000",
          "2025-02-27T00:00:00.000000000",
          "2025-02-27T00:00:00.000000000",
          "2025-02-27T00:00:00.000000000",
          "2025-02-27T00:00:00.000000000",
          "2025-02-28T00:00:00.000000000",
          "2025-02-28T00:00:00.000000000",
          "2025-02-28T00:00:00.000000000",
          "2025-02-28T00:00:00.000000000",
          "2025-03-01T00:00:00.000000000",
          "2025-03-01T00:00:00.000000000",
          "2025-03-01T00:00:00.000000000",
          "2025-03-01T00:00:00.000000000",
          "2025-03-02T00:00:00.000000000",
          "2025-03-02T00:00:00.000000000",
          "2025-03-02T00:00:00.000000000",
          "2025-03-02T00:00:00.000000000",
          "2025-03-03T00:00:00.000000000",
          "2025-03-03T00:00:00.000000000",
          "2025-03-03T00:00:00.000000000",
          "2025-03-03T00:00:00.000000000",
          "2025-03-04T00:00:00.000000000",
          "2025-03-04T00:00:00.000000000",
          "2025-03-04T00:00:00.000000000",
          "2025-03-04T00:00:00.000000000",
          "2025-03-05T00:00:00.000000000",
          "2025-03-05T00:00:00.000000000",
          "2025-03-05T00:00:00.000000000",
          "2025-03-05T00:00:00.000000000",
          "2025-03-06T00:00:00.000000000",
          "2025-03-06T00:00:00.000000000",
          "2025-03-06T00:00:00.000000000",
          "2025-03-06T00:00:00.000000000",
          "2025-03-07T00:00:00.000000000",
          "2025-03-07T00:00:00.000000000",
          "2025-03-07T00:00:00.000000000",
          "2025-03-07T00:00:00.000000000",
          "2025-03-08T00:00:00.000000000",
          "2025-03-08T00:00:00.000000000",
          "2025-03-08T00:00:00.000000000",
          "2025-03-08T00:00:00.000000000",
          "2025-03-09T00:00:00.000000000",
          "2025-03-09T00:00:00.000000000",
          "2025-03-09T00:00:00.000000000",
          "2025-03-09T00:00:00.000000000",
          "2025-03-10T00:00:00.000000000",
          "2025-03-10T00:00:00.000000000",
          "2025-03-10T00:00:00.000000000",
          "2025-03-10T00:00:00.000000000",
          "2025-03-11T00:00:00.000000000",
          "2025-03-11T00:00:00.000000000",
          "2025-03-11T00:00:00.000000000",
          "2025-03-11T00:00:00.000000000",
          "2025-03-12T00:00:00.000000000",
          "2025-03-12T00:00:00.000000000",
          "2025-03-12T00:00:00.000000000",
          "2025-03-12T00:00:00.000000000",
          "2025-03-13T00:00:00.000000000",
          "2025-03-13T00:00:00.000000000",
          "2025-03-13T00:00:00.000000000",
          "2025-03-13T00:00:00.000000000",
          "2025-03-14T00:00:00.000000000",
          "2025-03-14T00:00:00.000000000",
          "2025-03-14T00:00:00.000000000",
          "2025-03-14T00:00:00.000000000",
          "2025-03-15T00:00:00.000000000",
          "2025-03-15T00:00:00.000000000",
          "2025-03-15T00:00:00.000000000",
          "2025-03-15T00:00:00.000000000",
          "2025-03-16T00:00:00.000000000",
          "2025-03-16T00:00:00.000000000",
          "2025-03-16T00:00:00.000000000",
          "2025-03-16T00:00:00.000000000",
          "2025-03-17T00:00:00.000000000",
          "2025-03-17T00:00:00.000000000",
          "2025-03-17T00:00:00.000000000",
          "2025-03-17T00:00:00.000000000",
          "2025-03-18T00:00:00.000000000",
          "2025-03-18T00:00:00.000000000",
          "2025-03-18T00:00:00.000000000",
          "2025-03-18T00:00:00.000000000",
          "2025-03-19T00:00:00.000000000",
          "2025-03-19T00:00:00.000000000",
          "2025-03-19T00:00:00.000000000",
          "2025-03-19T00:00:00.000000000",
          "2025-03-20T00:00:00.000000000",
          "2025-03-20T00:00:00.000000000",
          "2025-03-20T00:00:00.000000000",
          "2025-03-20T00:00:00.000000000",
          "2025-03-21T00:00:00.000000000",
          "2025-03-21T00:00:00.000000000",
          "2025-03-21T00:00:00.000000000",
          "2025-03-21T00:00:00.000000000",
          "2025-03-22T00:00:00.000000000",
          "2025-03-22T00:00:00.000000000",
          "2025-03-22T00:00:00.000000000",
          "2025-03-22T00:00:00.000000000",
          "2025-03-23T00:00:00.000000000",
          "2025-03-23T00:00:00.000000000",
          "2025-03-23T00:00:00.000000000",
          "2025-03-23T00:00:00.000000000",
          "2025-03-24T00:00:00.000000000",
          "2025-03-24T00:00:00.000000000",
          "2025-03-24T00:00:00.000000000",
          "2025-03-24T00:00:00.000000000",
          "2025-03-25T00:00:00.000000000",
          "2025-03-25T00:00:00.000000000",
          "2025-03-25T00:00:00.000000000",
          "2025-03-25T00:00:00.000000000",
          "2025-03-26T00:00:00.000000000",
          "2025-03-26T00:00:00.000000000",
          "2025-03-26T00:00:00.000000000",
          "2025-03-26T00:00:00.000000000",
          "2025-03-27T00:00:00.000000000",
          "2025-03-27T00:00:00.000000000",
          "2025-03-27T00:00:00.000000000",
          "2025-03-27T00:00:00.000000000",
          "2025-03-28T00:00:00.000000000",
          "2025-03-28T00:00:00.000000000",
          "2025-03-28T00:00:00.000000000",
          "2025-03-28T00:00:00.000000000",
          "2025-03-29T00:00:00.000000000",
          "2025-03-29T00:00:00.000000000",
          "2025-03-29T00:00:00.000000000",
          "2025-03-29T00:00:00.000000000"
         ],
         "xaxis": "x",
         "y": {
          "bdata": "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",
          "dtype": "f8"
         },
         "yaxis": "y"
        }
       ],
       "layout": {
        "barmode": "relative",
        "legend": {
         "tracegroupgap": 0
        },
        "margin": {
         "t": 60
        },
        "template": {
         "data": {
          "bar": [
           {
            "error_x": {
             "color": "#2a3f5f"
            },
            "error_y": {
             "color": "#2a3f5f"
            },
            "marker": {
             "line": {
              "color": "#E5ECF6",
              "width": 0.5
             },
             "pattern": {
              "fillmode": "overlay",
              "size": 10,
              "solidity": 0.2
             }
            },
            "type": "bar"
           }
          ],
          "barpolar": [
           {
            "marker": {
             "line": {
              "color": "#E5ECF6",
              "width": 0.5
             },
             "pattern": {
              "fillmode": "overlay",
              "size": 10,
              "solidity": 0.2
             }
            },
            "type": "barpolar"
           }
          ],
          "carpet": [
           {
            "aaxis": {
             "endlinecolor": "#2a3f5f",
             "gridcolor": "white",
             "linecolor": "white",
             "minorgridcolor": "white",
             "startlinecolor": "#2a3f5f"
            },
            "baxis": {
             "endlinecolor": "#2a3f5f",
             "gridcolor": "white",
             "linecolor": "white",
             "minorgridcolor": "white",
             "startlinecolor": "#2a3f5f"
            },
            "type": "carpet"
           }
          ],
          "choropleth": [
           {
            "colorbar": {
             "outlinewidth": 0,
             "ticks": ""
            },
            "type": "choropleth"
           }
          ],
          "contour": [
           {
            "colorbar": {
             "outlinewidth": 0,
             "ticks": ""
            },
            "colorscale": [
             [
              0,
              "#0d0887"
             ],
             [
              0.1111111111111111,
              "#46039f"
             ],
             [
              0.2222222222222222,
              "#7201a8"
             ],
             [
              0.3333333333333333,
              "#9c179e"
             ],
             [
              0.4444444444444444,
              "#bd3786"
             ],
             [
              0.5555555555555556,
              "#d8576b"
             ],
             [
              0.6666666666666666,
              "#ed7953"
             ],
             [
              0.7777777777777778,
              "#fb9f3a"
             ],
             [
              0.8888888888888888,
              "#fdca26"
             ],
             [
              1,
              "#f0f921"
             ]
            ],
            "type": "contour"
           }
          ],
          "contourcarpet": [
           {
            "colorbar": {
             "outlinewidth": 0,
             "ticks": ""
            },
            "type": "contourcarpet"
           }
          ],
          "heatmap": [
           {
            "colorbar": {
             "outlinewidth": 0,
             "ticks": ""
            },
            "colorscale": [
             [
              0,
              "#0d0887"
             ],
             [
              0.1111111111111111,
              "#46039f"
             ],
             [
              0.2222222222222222,
              "#7201a8"
             ],
             [
              0.3333333333333333,
              "#9c179e"
             ],
             [
              0.4444444444444444,
              "#bd3786"
             ],
             [
              0.5555555555555556,
              "#d8576b"
             ],
             [
              0.6666666666666666,
              "#ed7953"
             ],
             [
              0.7777777777777778,
              "#fb9f3a"
             ],
             [
              0.8888888888888888,
              "#fdca26"
             ],
             [
              1,
              "#f0f921"
             ]
            ],
            "type": "heatmap"
           }
          ],
          "histogram": [
           {
            "marker": {
             "pattern": {
              "fillmode": "overlay",
              "size": 10,
              "solidity": 0.2
             }
            },
            "type": "histogram"
           }
          ],
          "histogram2d": [
           {
            "colorbar": {
             "outlinewidth": 0,
             "ticks": ""
            },
            "colorscale": [
             [
              0,
              "#0d0887"
             ],
             [
              0.1111111111111111,
              "#46039f"
             ],
             [
              0.2222222222222222,
              "#7201a8"
             ],
             [
              0.3333333333333333,
              "#9c179e"
             ],
             [
              0.4444444444444444,
              "#bd3786"
             ],
             [
              0.5555555555555556,
              "#d8576b"
             ],
             [
              0.6666666666666666,
              "#ed7953"
             ],
             [
              0.7777777777777778,
              "#fb9f3a"
             ],
             [
              0.8888888888888888,
              "#fdca26"
             ],
             [
              1,
              "#f0f921"
             ]
            ],
            "type": "histogram2d"
           }
          ],
          "histogram2dcontour": [
           {
            "colorbar": {
             "outlinewidth": 0,
             "ticks": ""
            },
            "colorscale": [
             [
              0,
              "#0d0887"
             ],
             [
              0.1111111111111111,
              "#46039f"
             ],
             [
              0.2222222222222222,
              "#7201a8"
             ],
             [
              0.3333333333333333,
              "#9c179e"
             ],
             [
              0.4444444444444444,
              "#bd3786"
             ],
             [
              0.5555555555555556,
              "#d8576b"
             ],
             [
              0.6666666666666666,
              "#ed7953"
             ],
             [
              0.7777777777777778,
              "#fb9f3a"
             ],
             [
              0.8888888888888888,
              "#fdca26"
             ],
             [
              1,
              "#f0f921"
             ]
            ],
            "type": "histogram2dcontour"
           }
          ],
          "mesh3d": [
           {
            "colorbar": {
             "outlinewidth": 0,
             "ticks": ""
            },
            "type": "mesh3d"
           }
          ],
          "parcoords": [
           {
            "line": {
             "colorbar": {
              "outlinewidth": 0,
              "ticks": ""
             }
            },
            "type": "parcoords"
           }
          ],
          "pie": [
           {
            "automargin": true,
            "type": "pie"
           }
          ],
          "scatter": [
           {
            "fillpattern": {
             "fillmode": "overlay",
             "size": 10,
             "solidity": 0.2
            },
            "type": "scatter"
           }
          ],
          "scatter3d": [
           {
            "line": {
             "colorbar": {
              "outlinewidth": 0,
              "ticks": ""
             }
            },
            "marker": {
             "colorbar": {
              "outlinewidth": 0,
              "ticks": ""
             }
            },
            "type": "scatter3d"
           }
          ],
          "scattercarpet": [
           {
            "marker": {
             "colorbar": {
              "outlinewidth": 0,
              "ticks": ""
             }
            },
            "type": "scattercarpet"
           }
          ],
          "scattergeo": [
           {
            "marker": {
             "colorbar": {
              "outlinewidth": 0,
              "ticks": ""
             }
            },
            "type": "scattergeo"
           }
          ],
          "scattergl": [
           {
            "marker": {
             "colorbar": {
              "outlinewidth": 0,
              "ticks": ""
             }
            },
            "type": "scattergl"
           }
          ],
          "scattermap": [
           {
            "marker": {
             "colorbar": {
              "outlinewidth": 0,
              "ticks": ""
             }
            },
            "type": "scattermap"
           }
          ],
          "scattermapbox": [
           {
            "marker": {
             "colorbar": {
              "outlinewidth": 0,
              "ticks": ""
             }
            },
            "type": "scattermapbox"
           }
          ],
          "scatterpolar": [
           {
            "marker": {
             "colorbar": {
              "outlinewidth": 0,
              "ticks": ""
             }
            },
            "type": "scatterpolar"
           }
          ],
          "scatterpolargl": [
           {
            "marker": {
             "colorbar": {
              "outlinewidth": 0,
              "ticks": ""
             }
            },
            "type": "scatterpolargl"
           }
          ],
          "scatterternary": [
           {
            "marker": {
             "colorbar": {
              "outlinewidth": 0,
              "ticks": ""
             }
            },
            "type": "scatterternary"
           }
          ],
          "surface": [
           {
            "colorbar": {
             "outlinewidth": 0,
             "ticks": ""
            },
            "colorscale": [
             [
              0,
              "#0d0887"
             ],
             [
              0.1111111111111111,
              "#46039f"
             ],
             [
              0.2222222222222222,
              "#7201a8"
             ],
             [
              0.3333333333333333,
              "#9c179e"
             ],
             [
              0.4444444444444444,
              "#bd3786"
             ],
             [
              0.5555555555555556,
              "#d8576b"
             ],
             [
              0.6666666666666666,
              "#ed7953"
             ],
             [
              0.7777777777777778,
              "#fb9f3a"
             ],
             [
              0.8888888888888888,
              "#fdca26"
             ],
             [
              1,
              "#f0f921"
             ]
            ],
            "type": "surface"
           }
          ],
          "table": [
           {
            "cells": {
             "fill": {
              "color": "#EBF0F8"
             },
             "line": {
              "color": "white"
             }
            },
            "header": {
             "fill": {
              "color": "#C8D4E3"
             },
             "line": {
              "color": "white"
             }
            },
            "type": "table"
           }
          ]
         },
         "layout": {
          "annotationdefaults": {
           "arrowcolor": "#2a3f5f",
           "arrowhead": 0,
           "arrowwidth": 1
          },
          "autotypenumbers": "strict",
          "coloraxis": {
           "colorbar": {
            "outlinewidth": 0,
            "ticks": ""
           }
          },
          "colorscale": {
           "diverging": [
            [
             0,
             "#8e0152"
            ],
            [
             0.1,
             "#c51b7d"
            ],
            [
             0.2,
             "#de77ae"
            ],
            [
             0.3,
             "#f1b6da"
            ],
            [
             0.4,
             "#fde0ef"
            ],
            [
             0.5,
             "#f7f7f7"
            ],
            [
             0.6,
             "#e6f5d0"
            ],
            [
             0.7,
             "#b8e186"
            ],
            [
             0.8,
             "#7fbc41"
            ],
            [
             0.9,
             "#4d9221"
            ],
            [
             1,
             "#276419"
            ]
           ],
           "sequential": [
            [
             0,
             "#0d0887"
            ],
            [
             0.1111111111111111,
             "#46039f"
            ],
            [
             0.2222222222222222,
             "#7201a8"
            ],
            [
             0.3333333333333333,
             "#9c179e"
            ],
            [
             0.4444444444444444,
             "#bd3786"
            ],
            [
             0.5555555555555556,
             "#d8576b"
            ],
            [
             0.6666666666666666,
             "#ed7953"
            ],
            [
             0.7777777777777778,
             "#fb9f3a"
            ],
            [
             0.8888888888888888,
             "#fdca26"
            ],
            [
             1,
             "#f0f921"
            ]
           ],
           "sequentialminus": [
            [
             0,
             "#0d0887"
            ],
            [
             0.1111111111111111,
             "#46039f"
            ],
            [
             0.2222222222222222,
             "#7201a8"
            ],
            [
             0.3333333333333333,
             "#9c179e"
            ],
            [
             0.4444444444444444,
             "#bd3786"
            ],
            [
             0.5555555555555556,
             "#d8576b"
            ],
            [
             0.6666666666666666,
             "#ed7953"
            ],
            [
             0.7777777777777778,
             "#fb9f3a"
            ],
            [
             0.8888888888888888,
             "#fdca26"
            ],
            [
             1,
             "#f0f921"
            ]
           ]
          },
          "colorway": [
           "#636efa",
           "#EF553B",
           "#00cc96",
           "#ab63fa",
           "#FFA15A",
           "#19d3f3",
           "#FF6692",
           "#B6E880",
           "#FF97FF",
           "#FECB52"
          ],
          "font": {
           "color": "#2a3f5f"
          },
          "geo": {
           "bgcolor": "white",
           "lakecolor": "white",
           "landcolor": "#E5ECF6",
           "showlakes": true,
           "showland": true,
           "subunitcolor": "white"
          },
          "hoverlabel": {
           "align": "left"
          },
          "hovermode": "closest",
          "mapbox": {
           "style": "light"
          },
          "paper_bgcolor": "white",
          "plot_bgcolor": "#E5ECF6",
          "polar": {
           "angularaxis": {
            "gridcolor": "white",
            "linecolor": "white",
            "ticks": ""
           },
           "bgcolor": "#E5ECF6",
           "radialaxis": {
            "gridcolor": "white",
            "linecolor": "white",
            "ticks": ""
           }
          },
          "scene": {
           "xaxis": {
            "backgroundcolor": "#E5ECF6",
            "gridcolor": "white",
            "gridwidth": 2,
            "linecolor": "white",
            "showbackground": true,
            "ticks": "",
            "zerolinecolor": "white"
           },
           "yaxis": {
            "backgroundcolor": "#E5ECF6",
            "gridcolor": "white",
            "gridwidth": 2,
            "linecolor": "white",
            "showbackground": true,
            "ticks": "",
            "zerolinecolor": "white"
           },
           "zaxis": {
            "backgroundcolor": "#E5ECF6",
            "gridcolor": "white",
            "gridwidth": 2,
            "linecolor": "white",
            "showbackground": true,
            "ticks": "",
            "zerolinecolor": "white"
           }
          },
          "shapedefaults": {
           "line": {
            "color": "#2a3f5f"
           }
          },
          "ternary": {
           "aaxis": {
            "gridcolor": "white",
            "linecolor": "white",
            "ticks": ""
           },
           "baxis": {
            "gridcolor": "white",
            "linecolor": "white",
            "ticks": ""
           },
           "bgcolor": "#E5ECF6",
           "caxis": {
            "gridcolor": "white",
            "linecolor": "white",
            "ticks": ""
           }
          },
          "title": {
           "x": 0.05
          },
          "xaxis": {
           "automargin": true,
           "gridcolor": "white",
           "linecolor": "white",
           "ticks": "",
           "title": {
            "standoff": 15
           },
           "zerolinecolor": "white",
           "zerolinewidth": 2
          },
          "yaxis": {
           "automargin": true,
           "gridcolor": "white",
           "linecolor": "white",
           "ticks": "",
           "title": {
            "standoff": 15
           },
           "zerolinecolor": "white",
           "zerolinewidth": 2
          }
         }
        },
        "xaxis": {
         "anchor": "y",
         "domain": [
          0,
          1
         ],
         "title": {
          "text": "date"
         }
        },
        "yaxis": {
         "anchor": "x",
         "domain": [
          0,
          1
         ],
         "title": {
          "text": "city_users_count"
         }
        }
       }
      }
     },
     "metadata": {},
     "output_type": "display_data"
    }
   ],
   "source": [
    "_plot_plotly(data, dt_col, value_col, hue_cols=None, mode='bar', add_text=None)"
   ]
  },
  {
   "cell_type": "code",
   "execution_count": null,
   "metadata": {},
   "outputs": [],
   "source": []
  },
  {
   "cell_type": "code",
   "execution_count": 23,
   "metadata": {},
   "outputs": [
    {
     "data": {
      "image/png": "[encoded data removed]",
      "text/plain": [
       "<Figure size 900x400 with 1 Axes>"
      ]
     },
     "metadata": {},
     "output_type": "display_data"
    }
   ],
   "source": [
    "dmp = DinamicMetricPlotter()\n",
    "data = md.compute(ef, 'D', formula_kwargs=formula_kwargs, hue_cols=['operation_system', 'status'])\n",
    "dmp.plot(data, dt_col='date', value_col='city_users_count', hue_cols=[], engine='seaborn', aggfunc='mean', mode='auto', smooth=10)\n"
   ]
  },
  {
   "cell_type": "code",
   "execution_count": null,
   "metadata": {},
   "outputs": [],
   "source": []
  }
 ],
 "metadata": {
  "kernelspec": {
   "display_name": ".venv",
   "language": "python",
   "name": "python3"
  },
  "language_info": {
   "codemirror_mode": {
    "name": "ipython",
    "version": 3
   },
   "file_extension": ".py",
   "mimetype": "text/x-python",
   "name": "python",
   "nbconvert_exporter": "python",
   "pygments_lexer": "ipython3",
   "version": "3.12.1"
  }
 },
 "nbformat": 4,
 "nbformat_minor": 2
}
